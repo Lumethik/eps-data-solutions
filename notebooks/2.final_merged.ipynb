{
 "cells": [
  {
   "cell_type": "markdown",
   "id": "bf295348-b094-4bf9-9430-abc861f5d41c",
   "metadata": {},
   "source": [
    "This algoritm work for make a join final from all datasets that Neg and Val"
   ]
  },
  {
   "cell_type": "markdown",
   "id": "96b92291-c87c-4ca0-b42f-ec9786ef2d1d",
   "metadata": {},
   "source": [
    "# 1.LIBRARIES"
   ]
  },
  {
   "cell_type": "code",
   "execution_count": 1,
   "id": "6d37d3f3-ed6a-4545-a48a-522cb625166e",
   "metadata": {},
   "outputs": [],
   "source": [
    "import os\n",
    "import pandas as pd"
   ]
  },
  {
   "cell_type": "markdown",
   "id": "34eddc17-7248-41e7-908a-42b8bad5d8dd",
   "metadata": {},
   "source": [
    "# 2. lOCAL VAIRABLES"
   ]
  },
  {
   "cell_type": "code",
   "execution_count": 2,
   "id": "f9654ef2-4330-43e9-be7e-2cb6f760dfc3",
   "metadata": {},
   "outputs": [],
   "source": [
    "#Variables globales\n",
    "#Nombre del dataframe final\n",
    "nombre_merged = \"mer_cont_neg_2018_2024\"\n",
    "# Definir la ruta donde se guardará el archivo Excel basado en la variable nombre_merged\n",
    "output_name = f\"{nombre_merged}.xlsx\"\n",
    "output_path = os.path.join(r\"C:/Users/crist/OneDrive - Corporación Universitaria Remington UNIREMINGTON/Estudio/Ciencia de datos/Lumethik/eps-data-solutions/data/raw/Procesos BDUA/Contributivo/Negados/Files since 2018 until 2024/\", output_name)\n",
    "#output_path = os.path.join(r\"C:\\Users\\carlo\\Downloads\", output_name)"
   ]
  },
  {
   "cell_type": "markdown",
   "id": "0cafcfb6-96b8-487d-8ae1-cb8d7951f455",
   "metadata": {},
   "source": [
    "# 3.READING A FOLDER WITH DENIED OR VALIDATED DATA"
   ]
  },
  {
   "cell_type": "code",
   "execution_count": null,
   "id": "7f219187-da35-4fdd-88bc-4491a6192a65",
   "metadata": {},
   "outputs": [],
   "source": [
    "# Función para solicitar la ruta de la carpeta al usuario\n",
    "def obtener_ruta_carpeta():\n",
    "    # Solicitar la ruta de la carpeta al usuario\n",
    "    folder_path = input('Por favor, ingresa la ruta de la carpeta (incluyendo las comillas si están presentes): ')\n",
    "    \n",
    "    # Eliminar las comillas dobles alrededor de la ruta, si las hay\n",
    "    folder_path = folder_path.strip('\"')\n",
    "    \n",
    "    # Reemplazar las barras invertidas con barras normales\n",
    "    folder_path = folder_path.replace(\"\\\\\", \"/\")\n",
    "    \n",
    "    return folder_path  # Retorna la ruta corregida\n",
    "\n",
    "# Función para leer los archivos y almacenarlos en un diccionario de DataFrames\n",
    "def cargar_archivos_a_dataframe(folder_path):\n",
    "    dataframes = {}\n",
    "    \n",
    "    # Itera sobre todos los archivos en la carpeta\n",
    "    for i, filename in enumerate(os.listdir(folder_path), start=1):\n",
    "        file_path = os.path.join(folder_path, filename)  # Construye la ruta completa\n",
    "        \n",
    "        try:\n",
    "            if filename.endswith(\".NEG\"):  # Para archivos .NEG\n",
    "                df = pd.read_csv(file_path, sep=\",\", encoding=\"latin-1\", header=None)\n",
    "                df.columns = [f\"col_{j+1}\" for j in range(df.shape[1])]  # Asigna nombres de columnas numerados\n",
    "            elif filename.endswith(\".csv\"):  # Para archivos .csv\n",
    "                df = pd.read_csv(file_path, encoding=\"utf-8\")\n",
    "            elif filename.endswith(\".xlsx\"):  # Para archivos .xlsx\n",
    "                df = pd.read_excel(file_path, engine='openpyxl')\n",
    "            else:\n",
    "                print(f\"Archivo {filename} no es compatible y será ignorado.\")\n",
    "                continue\n",
    "            \n",
    "            # Almacena el DataFrame en el diccionario con un nombre dinámico\n",
    "            dataframes[f\"df_{i}\"] = df\n",
    "            print(f\"Archivo {filename} cargado como df_{i}\")\n",
    "        except Exception as e:\n",
    "            print(f\"No se pudo leer el archivo {filename}: {e}\")\n",
    "    \n",
    "    return dataframes\n",
    "\n",
    "# Función para mostrar las primeras filas de los DataFrames cargados\n",
    "def mostrar_primeras_filas(dataframes):\n",
    "    # Mostrar las primeras filas de los DataFrames para verificar\n",
    "    for name, df in dataframes.items():\n",
    "        print(f\"Primeras filas de {name}:\")\n",
    "        print(df.head())\n",
    "        break  # Muestra solo el primer DataFrame como ejemplo\n",
    "\n",
    "# Llamada a la función para obtener la ruta\n",
    "ruta = obtener_ruta_carpeta()\n",
    "print(f\"La ruta ingresada es: {ruta}\")\n",
    "\n",
    "# Llamada a la función para cargar los archivos en un diccionario de DataFrames\n",
    "dataframes = cargar_archivos_a_dataframe(ruta)\n",
    "\n",
    "# Llamada a la función para mostrar las primeras filas de los DataFrames cargados\n",
    "mostrar_primeras_filas(dataframes)\n"
   ]
  },
  {
   "cell_type": "markdown",
   "id": "df7c1c29-f93f-4819-a8b8-d49a6e62cb8e",
   "metadata": {},
   "source": [
    "# Tamaño de dataframes"
   ]
  },
  {
   "cell_type": "code",
   "execution_count": null,
   "id": "296eadf3-af1e-41f4-a891-499cf3f4d304",
   "metadata": {},
   "outputs": [],
   "source": [
    "print('Name Row  Cols')\n",
    "for name, df in dataframes.items():\n",
    "    print(f\"{name}: {df.shape}\")"
   ]
  },
  {
   "cell_type": "code",
   "execution_count": null,
   "id": "06f95e06-cced-4472-9311-c015c57194ef",
   "metadata": {},
   "outputs": [],
   "source": [
    "# Mostrar los tipos de datos de cada DataFrame en el diccionario\n",
    "for name, df in dataframes.items():\n",
    "    print(f\"Tipos de datos del DataFrame '{name}':\")\n",
    "    print(df.dtypes)\n",
    "    print(\"-\" * 40)  # Separador para mayor claridad\n"
   ]
  },
  {
   "cell_type": "code",
   "execution_count": null,
   "id": "e725a813-6ef8-4c12-a03b-7a85048b81fb",
   "metadata": {},
   "outputs": [],
   "source": [
    "# Mostrar tipos de datos y porcentaje de nulos para cada DataFrame en el diccionario\n",
    "for name, df in dataframes.items():\n",
    "    print(f\"Análisis del DataFrame '{name}':\")\n",
    "    # Porcentaje de nulos\n",
    "    print(\"\\nPorcentaje de valores nulos por columna:\")\n",
    "    porcentaje_nulos = df.isnull().mean() * 100  # Calcula el % de nulos\n",
    "    print(porcentaje_nulos.round(2))  # Redondea a 2 decimales\n",
    "    \n",
    "    print(\"-\" * 50)  # Separador para mayor claridad\n"
   ]
  },
  {
   "cell_type": "markdown",
   "id": "f3378673-bc89-496a-8454-20db5c34f0d5",
   "metadata": {},
   "source": [
    "# 4. Merged Final"
   ]
  },
  {
   "cell_type": "code",
   "execution_count": null,
   "id": "c399cb8c-7683-4e4d-afcd-15f1cfffe46b",
   "metadata": {},
   "outputs": [],
   "source": [
    "# Definir el número de columnas deseadas\n",
    "num_columnas = 13\n",
    "\n",
    "# Asegurar que todos los DataFrames tengan exactamente el mismo número de columnas\n",
    "dataframes_alineados = {name: df.iloc[:, :num_columnas] for name, df in dataframes.items()}\n",
    "\n",
    "# Preguntar al usuario cómo desea llamar al DataFrame combinado\n",
    "#nombre_merged = input(\"¿Cómo deseas llamar al DataFrame combinado? \")\n",
    "\n",
    "# Combinar todos los DataFrames alineados, sin crear nuevas columnas\n",
    "globals()[nombre_merged] = pd.concat(dataframes_alineados.values(), axis=0, ignore_index=True)\n",
    "\n",
    "# Mostrar el shape del DataFrame combinado\n",
    "print(f\"Shape del DataFrame '{nombre_merged}': {globals()[nombre_merged].shape}\")\n",
    "\n",
    "# Verificar las primeras filas\n",
    "print(f\"Primeras 5 filas del DataFrame '{nombre_merged}':\")\n",
    "print(globals()[nombre_merged].head())\n"
   ]
  },
  {
   "cell_type": "code",
   "execution_count": null,
   "id": "8894a74d-53b7-4f09-9488-c092e8dcc713",
   "metadata": {},
   "outputs": [],
   "source": [
    "globals()[nombre_merged] .head(2)"
   ]
  },
  {
   "cell_type": "code",
   "execution_count": null,
   "id": "4c2d4cfe-16d1-4f37-8384-865549e9e3b1",
   "metadata": {},
   "outputs": [],
   "source": [
    "globals()[nombre_merged] .dtypes\n"
   ]
  },
  {
   "cell_type": "code",
   "execution_count": null,
   "id": "f298a63f-5183-4f41-9618-d5a37322cb66",
   "metadata": {},
   "outputs": [],
   "source": [
    "\n",
    "\n",
    "# Ruta para guardar en Descargas (Windows)\n",
    "#output_path = os.path.expanduser(\"~/Downloads/merged_18_24.xlsx\")\n",
    "\n",
    "# Guardar el DataFrame\n",
    "globals()[nombre_merged] .to_excel(output_path, index=False, engine='openpyxl')\n",
    "\n",
    "print(f\"El archivo se ha guardado correctamente en: {output_path}\")\n"
   ]
  }
 ],
 "metadata": {
  "kernelspec": {
   "display_name": "Python 3",
   "language": "python",
   "name": "python3"
  },
  "language_info": {
   "codemirror_mode": {
    "name": "ipython",
    "version": 3
   },
   "file_extension": ".py",
   "mimetype": "text/x-python",
   "name": "python",
   "nbconvert_exporter": "python",
   "pygments_lexer": "ipython3",
   "version": "3.11.4"
  }
 },
 "nbformat": 4,
 "nbformat_minor": 5
}
